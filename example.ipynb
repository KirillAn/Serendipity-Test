{
 "cells": [
  {
   "cell_type": "code",
   "execution_count": 2,
   "metadata": {
    "ExecuteTime": {
     "end_time": "2023-12-27T14:17:54.425901Z",
     "start_time": "2023-12-27T14:17:51.352535Z"
    }
   },
   "outputs": [
    {
     "name": "stdout",
     "output_type": "stream",
     "text": [
      "Intel MKL WARNING: Support of Intel(R) Streaming SIMD Extensions 4.2 (Intel(R) SSE4.2) enabled only processors has been deprecated. Intel oneAPI Math Kernel Library 2025.0 will require Intel(R) Advanced Vector Extensions (Intel(R) AVX) instructions.\n",
      "Intel MKL WARNING: Support of Intel(R) Streaming SIMD Extensions 4.2 (Intel(R) SSE4.2) enabled only processors has been deprecated. Intel oneAPI Math Kernel Library 2025.0 will require Intel(R) Advanced Vector Extensions (Intel(R) AVX) instructions.\n"
     ]
    }
   ],
   "source": [
    "import pickle\n",
    "import numpy as np\n",
    "import pandas as pd\n",
    "from transformers import AutoTokenizer, AutoModelForSeq2SeqLM\n",
    "\n",
    "from serendipity.kg import *\n"
   ]
  },
  {
   "cell_type": "code",
   "execution_count": 3,
   "metadata": {
    "ExecuteTime": {
     "end_time": "2023-12-27T14:17:54.482338Z",
     "start_time": "2023-12-27T14:17:54.428177Z"
    }
   },
   "outputs": [],
   "source": [
    "data = pd.read_csv('/Users/kirillanosov/Downloads/serendipity/data/bbc-news-data.csv', sep='\\t')\n",
    "texts = data['content']\n",
    "y_true = data['category']\n",
    "candidate_labels = list(set(y_true))\n"
   ]
  },
  {
   "cell_type": "code",
   "execution_count": 4,
   "metadata": {
    "ExecuteTime": {
     "end_time": "2023-12-27T14:17:56.918504Z",
     "start_time": "2023-12-27T14:17:56.898320Z"
    }
   },
   "outputs": [],
   "source": [
    "with open('./cache/zs-classes.pkl', 'rb') as file:\n",
    "    classes = pickle.load(file)\n",
    "with open('./cache/ner_topics.pkl', 'rb') as file:\n",
    "    ner_topics = pickle.load(file)\n",
    "with open('./cache/topics.pkl', 'rb') as file:\n",
    "    topics = pickle.load(file)\n",
    "with open('./cache/embeddings.npy', 'rb') as file:\n",
    "    embeddings = np.load(file)\n",
    "with open('./cache/all_ents.pkl', 'rb') as file:\n",
    "    all_ents = pickle.load(file)\n"
   ]
  },
  {
   "cell_type": "code",
   "execution_count": 5,
   "metadata": {
    "ExecuteTime": {
     "end_time": "2023-12-27T14:18:06.688725Z",
     "start_time": "2023-12-27T14:17:58.853030Z"
    }
   },
   "outputs": [
    {
     "name": "stderr",
     "output_type": "stream",
     "text": [
      "Special tokens have been added in the vocabulary, make sure the associated word embeddings are fine-tuned or trained.\n"
     ]
    }
   ],
   "source": [
    "tokenizer = AutoTokenizer.from_pretrained(\"Babelscape/rebel-large\")\n",
    "model = AutoModelForSeq2SeqLM.from_pretrained(\"Babelscape/rebel-large\")\n"
   ]
  },
  {
   "cell_type": "code",
   "execution_count": null,
   "metadata": {
    "is_executing": true,
    "ExecuteTime": {
     "start_time": "2023-12-27T14:18:10.550724Z"
    }
   },
   "outputs": [
    {
     "data": {
      "text/plain": "0it [00:00, ?it/s]",
      "application/vnd.jupyter.widget-view+json": {
       "version_major": 2,
       "version_minor": 0,
       "model_id": "d827a89a97954c57a99034d439e41fbb"
      },
      "application/json": {
       "n": 0,
       "total": null,
       "elapsed": 0.04238629341125488,
       "ncols": null,
       "nrows": null,
       "prefix": "",
       "ascii": false,
       "unit": "it",
       "unit_scale": false,
       "rate": null,
       "bar_format": null,
       "postfix": null,
       "unit_divisor": 1000,
       "initial": 0,
       "colour": null
      }
     },
     "metadata": {},
     "output_type": "display_data"
    }
   ],
   "source": [
    "thresh = 15\n",
    "kb = from_corpus_to_kb(\n",
    "    texts[:thresh],\n",
    "    topics[:thresh],\n",
    "    model,\n",
    "    tokenizer\n",
    "    )\n"
   ]
  },
  {
   "cell_type": "code",
   "execution_count": 6,
   "metadata": {
    "ExecuteTime": {
     "end_time": "2023-12-27T14:18:06.729583Z",
     "start_time": "2023-12-27T14:18:06.686865Z"
    }
   },
   "outputs": [
    {
     "ename": "NameError",
     "evalue": "name 'kb' is not defined",
     "output_type": "error",
     "traceback": [
      "\u001B[0;31m---------------------------------------------------------------------------\u001B[0m",
      "\u001B[0;31mNameError\u001B[0m                                 Traceback (most recent call last)",
      "Cell \u001B[0;32mIn[6], line 2\u001B[0m\n\u001B[1;32m      1\u001B[0m \u001B[38;5;28;01mwith\u001B[39;00m \u001B[38;5;28mopen\u001B[39m(\u001B[38;5;124m'\u001B[39m\u001B[38;5;124m./cache/kb.pkl\u001B[39m\u001B[38;5;124m'\u001B[39m, \u001B[38;5;124m'\u001B[39m\u001B[38;5;124mwb\u001B[39m\u001B[38;5;124m'\u001B[39m) \u001B[38;5;28;01mas\u001B[39;00m out:\n\u001B[0;32m----> 2\u001B[0m     pickle\u001B[38;5;241m.\u001B[39mdump(\u001B[43mkb\u001B[49m, out)\n",
      "\u001B[0;31mNameError\u001B[0m: name 'kb' is not defined"
     ]
    }
   ],
   "source": [
    "with open('./cache/kb.pkl', 'wb') as out:\n",
    "    pickle.dump(kb, out)\n"
   ]
  },
  {
   "cell_type": "code",
   "execution_count": null,
   "metadata": {},
   "outputs": [],
   "source": []
  },
  {
   "cell_type": "code",
   "execution_count": null,
   "metadata": {},
   "outputs": [],
   "source": []
  },
  {
   "cell_type": "code",
   "execution_count": null,
   "metadata": {},
   "outputs": [],
   "source": []
  },
  {
   "cell_type": "code",
   "execution_count": null,
   "metadata": {},
   "outputs": [],
   "source": []
  }
 ],
 "metadata": {
  "kernelspec": {
   "display_name": "nlpenv",
   "language": "python",
   "name": "python3"
  },
  "language_info": {
   "codemirror_mode": {
    "name": "ipython",
    "version": 3
   },
   "file_extension": ".py",
   "mimetype": "text/x-python",
   "name": "python",
   "nbconvert_exporter": "python",
   "pygments_lexer": "ipython3",
   "version": "3.10.5"
  }
 },
 "nbformat": 4,
 "nbformat_minor": 2
}
